{
 "cells": [
  {
   "cell_type": "code",
   "execution_count": 2,
   "metadata": {},
   "outputs": [
    {
     "name": "stdout",
     "output_type": "stream",
     "text": [
      "85.901105930017 49.13247398615299 120.6358155772986\n"
     ]
    }
   ],
   "source": [
    "# находим расстояние\n",
    "import numpy as np\n",
    "a = np.array([23, 34, 27])\n",
    "b = np.array([-54, 1,  46])\n",
    "c = np.array([46, 68, 54])\n",
    "\n",
    "distance_a_b = np.linalg.norm(a-b)\n",
    "distance_b_c = np.linalg.norm(b-c)\n",
    "distance_a_c = np.linalg.norm(a-c)\n",
    "\n",
    "print(distance_a_b,distance_a_c,distance_b_c)"
   ]
  },
  {
   "cell_type": "code",
   "execution_count": 5,
   "metadata": {},
   "outputs": [
    {
     "name": "stdout",
     "output_type": "stream",
     "text": [
      "34 68 4828\n"
     ]
    }
   ],
   "source": [
    "# находим сколярное произведение\n",
    "import numpy as np\n",
    "a = np.array([23, 34, 27])\n",
    "b = np.array([-54, 1,  46])\n",
    "c = np.array([46, 68, 54])\n",
    "\n",
    "scalar_a_b = np.dot(a,b)\n",
    "scalar_b_c = np.dot(b,c)\n",
    "scalar_a_c = np.dot(a,c)\n",
    "\n",
    "print(scalar_a_b, scalar_b_c, scalar_a_c)"
   ]
  },
  {
   "cell_type": "code",
   "execution_count": 10,
   "metadata": {},
   "outputs": [
    {
     "name": "stdout",
     "output_type": "stream",
     "text": [
      "1\n",
      "28\n",
      "10.75\n"
     ]
    },
    {
     "ename": "AttributeError",
     "evalue": "'numpy.ndarray' object has no attribute 'median'",
     "output_type": "error",
     "traceback": [
      "\u001b[1;31m---------------------------------------------------------------------------\u001b[0m",
      "\u001b[1;31mAttributeError\u001b[0m                            Traceback (most recent call last)",
      "\u001b[1;32md:\\YandexDisk-dellamorte383\\YandexDisk\\YandexDisk\\DATA SCIENTIST\\PYTHON\\IDE\\new_projet_1\\NumPy_massive_vector_home.ipynb Cell 3'\u001b[0m in \u001b[0;36m<cell line: 5>\u001b[1;34m()\u001b[0m\n\u001b[0;32m      <a href='vscode-notebook-cell:/d%3A/YandexDisk-dellamorte383/YandexDisk/YandexDisk/DATA%20SCIENTIST/PYTHON/IDE/new_projet_1/NumPy_massive_vector_home.ipynb#ch0000002?line=2'>3</a>\u001b[0m \u001b[39mprint\u001b[39m(np\u001b[39m.\u001b[39mmax(vec))\u001b[39m# максимальное значение\u001b[39;00m\n\u001b[0;32m      <a href='vscode-notebook-cell:/d%3A/YandexDisk-dellamorte383/YandexDisk/YandexDisk/DATA%20SCIENTIST/PYTHON/IDE/new_projet_1/NumPy_massive_vector_home.ipynb#ch0000002?line=3'>4</a>\u001b[0m \u001b[39mprint\u001b[39m(vec\u001b[39m.\u001b[39mmean())\u001b[39m# среднее значение\u001b[39;00m\n\u001b[1;32m----> <a href='vscode-notebook-cell:/d%3A/YandexDisk-dellamorte383/YandexDisk/YandexDisk/DATA%20SCIENTIST/PYTHON/IDE/new_projet_1/NumPy_massive_vector_home.ipynb#ch0000002?line=4'>5</a>\u001b[0m \u001b[39mprint\u001b[39m(vec\u001b[39m.\u001b[39;49mmedian())\n",
      "\u001b[1;31mAttributeError\u001b[0m: 'numpy.ndarray' object has no attribute 'median'"
     ]
    }
   ],
   "source": [
    "vec = np.array([2,7,18,28,18,1,8,4])\n",
    "print(vec.min())# минимальное значение\n",
    "print(np.max(vec))# максимальное значение\n",
    "print(vec.mean())# среднее значение\n",
    "print(vec.median())"
   ]
  }
 ],
 "metadata": {
  "interpreter": {
   "hash": "ed944d31a26588a9b554811370f925dec0337c248b42d43f90ef062f4921d2ba"
  },
  "kernelspec": {
   "display_name": "Python 3.10.4 64-bit",
   "language": "python",
   "name": "python3"
  },
  "language_info": {
   "codemirror_mode": {
    "name": "ipython",
    "version": 3
   },
   "file_extension": ".py",
   "mimetype": "text/x-python",
   "name": "python",
   "nbconvert_exporter": "python",
   "pygments_lexer": "ipython3",
   "version": "3.10.4"
  },
  "orig_nbformat": 4
 },
 "nbformat": 4,
 "nbformat_minor": 2
}
